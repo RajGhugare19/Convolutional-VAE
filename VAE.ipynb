{
 "cells": [
  {
   "cell_type": "code",
   "execution_count": 10,
   "id": "f02769b9",
   "metadata": {},
   "outputs": [],
   "source": [
    "import numpy as np\n",
    "import wandb\n",
    "import torch\n",
    "import torchvision\n",
    "import torch.nn as nn\n",
    "import torch.optim as optim\n",
    "import torch.nn.functional as F"
   ]
  },
  {
   "cell_type": "code",
   "execution_count": 11,
   "id": "0977830b",
   "metadata": {},
   "outputs": [],
   "source": [
    "device = torch.device(\"cuda:0\")\n",
    "torch.cuda.empty_cache()"
   ]
  },
  {
   "cell_type": "code",
   "execution_count": 12,
   "id": "065e3f39",
   "metadata": {},
   "outputs": [],
   "source": [
    "class VAE(nn.Module):\n",
    "\n",
    "    def __init__(self):\n",
    "        \n",
    "        super(VAE, self).__init__()\n",
    "        \n",
    "        self.z = 10\n",
    "        self.h = 64*11*11\n",
    "\n",
    "        self.conv1 = nn.Conv2d(1,32,kernel_size=3)\n",
    "        self.conv2 = nn.Conv2d(32,64,kernel_size=3)\n",
    "        self.pool = nn.MaxPool2d(2,2)\n",
    "        \n",
    "        self.fc1 = nn.Linear(self.h,2*self.z)\n",
    "        self.fc2 = nn.Linear(self.z,self.h)\n",
    "        \n",
    "        self.tconv1 = nn.ConvTranspose2d(64,32,kernel_size=3)  \n",
    "        self.tconv2 = nn.ConvTranspose2d(32, 1,kernel_size=3)\n",
    "        self.upsamp = nn.Upsample(scale_factor = 2, mode='nearest')\n",
    "        \n",
    "        self.optimizer = optim.Adam(self.parameters(),lr = 0.001)\n",
    "\n",
    "    def forward(self, x):\n",
    "\n",
    "        x, mu, logvar = self.encode(x)\n",
    "        x = self.decode(x)\n",
    "\n",
    "        return x, mu, logvar\n",
    "    \n",
    "    def flatten(self, x):\n",
    "        \n",
    "        return x.view(x.size(0),-1)\n",
    "    \n",
    "    def unflatten(self,x):\n",
    "\n",
    "        return x.view(x.size(0),64,11,11)\n",
    "\n",
    "    def encode(self,x):\n",
    "\n",
    "        x = torch.relu(self.conv1(x))\n",
    "        x = self.pool(x)\n",
    "        x = torch.relu(self.conv2(x))\n",
    "        x = self.flatten(x)\n",
    "        mu, logvar = torch.chunk(self.fc1(x),2,1)\n",
    "        z = self.reparameterize(mu,logvar)\n",
    "        return z, mu, logvar\n",
    "\n",
    "    def reparameterize(self, mu, logvar):\n",
    "        \n",
    "        std = logvar.mul(0.5).exp_()\n",
    "        esp = torch.randn(*mu.size()).to(device)\n",
    "        z = mu + std * esp\n",
    "        return z\n",
    "    \n",
    "    def decode(self,x):\n",
    "\n",
    "        x = torch.relu(self.fc2(x))\n",
    "        x = self.unflatten(x)\n",
    "        x = torch.relu(self.tconv1(x))\n",
    "        x = self.upsamp(x)\n",
    "        x = torch.sigmoid(self.tconv2(x))\n",
    "\n",
    "        return x"
   ]
  },
  {
   "cell_type": "code",
   "execution_count": 13,
   "id": "2b6433cb",
   "metadata": {},
   "outputs": [],
   "source": [
    "n_epochs = 3\n",
    "batch_size_train = 64\n",
    "batch_size_test = 1000\n",
    "learning_rate = 0.001"
   ]
  },
  {
   "cell_type": "code",
   "execution_count": 14,
   "id": "9d718e90",
   "metadata": {},
   "outputs": [],
   "source": [
    "train_loader = torch.utils.data.DataLoader(\n",
    "  torchvision.datasets.MNIST('./', train=True, download=True,\n",
    "                             transform=torchvision.transforms.Compose([\n",
    "                               torchvision.transforms.ToTensor(),\n",
    "                               torchvision.transforms.Normalize(\n",
    "                                 (0.1307,), (0.3081,))\n",
    "                             ])),\n",
    "  batch_size=batch_size_train, shuffle=True)\n",
    "\n",
    "test_loader = torch.utils.data.DataLoader(\n",
    "  torchvision.datasets.MNIST('./', train=False, download=True,\n",
    "                             transform=torchvision.transforms.Compose([\n",
    "                               torchvision.transforms.ToTensor(),\n",
    "                               torchvision.transforms.Normalize(\n",
    "                                 (0.1307,), (0.3081,))\n",
    "                             ])),\n",
    "  batch_size=batch_size_test, shuffle=True)\n"
   ]
  },
  {
   "cell_type": "code",
   "execution_count": 15,
   "id": "d4cc62f2",
   "metadata": {},
   "outputs": [],
   "source": [
    "def reconstruction_loss(recon_x,x):\n",
    "    \n",
    "    r_loss = F.binary_cross_entropy(recon_x,x)\n",
    "    return r_loss\n",
    "\n",
    "def kl_loss(mu,logvar):\n",
    "    \n",
    "    kl_loss = -0.5 * torch.mean(1 + logvar - mu.pow(2) - logvar.exp())\n",
    "    return kl_loss"
   ]
  },
  {
   "cell_type": "code",
   "execution_count": 16,
   "id": "75aa51cf",
   "metadata": {},
   "outputs": [
    {
     "data": {
      "text/plain": [
       "[<wandb.wandb_torch.TorchGraph at 0x7f57f8831970>]"
      ]
     },
     "execution_count": 16,
     "metadata": {},
     "output_type": "execute_result"
    }
   ],
   "source": [
    "vae = VAE().to(device)\n",
    "wandb.watch(vae, log_freq=100)"
   ]
  },
  {
   "cell_type": "code",
   "execution_count": 18,
   "id": "a131ff90",
   "metadata": {},
   "outputs": [
    {
     "name": "stdout",
     "output_type": "stream",
     "text": [
      "epoch number  0\n"
     ]
    },
    {
     "name": "stderr",
     "output_type": "stream",
     "text": [
      "/home/raj/anaconda3/envs/pyanomaly/lib/python3.8/site-packages/torch/nn/modules/module.py:795: UserWarning: Using a non-full backward hook when the forward contains multiple autograd Nodes is deprecated and will be removed in future versions. This hook will be missing some grad_input. Please use register_full_backward_hook to get the documented behavior.\n",
      "  warnings.warn(\"Using a non-full backward hook when the forward contains multiple autograd Nodes \"\n"
     ]
    },
    {
     "name": "stdout",
     "output_type": "stream",
     "text": [
      "train loss  -0.44819846202874714\n",
      "val loss  -0.03728670082092285\n",
      "epoch number  1\n",
      "train loss  -0.5985299276390563\n",
      "val loss  -0.039838536834716796\n",
      "epoch number  2\n",
      "train loss  -0.6223542619107375\n",
      "val loss  -0.040953895568847654\n",
      "epoch number  3\n",
      "train loss  -0.635254176949133\n",
      "val loss  -0.04139940376281738\n",
      "epoch number  4\n",
      "train loss  -0.6435804751509034\n",
      "val loss  -0.04192227058410645\n",
      "epoch number  5\n",
      "train loss  -0.649825029917109\n",
      "val loss  -0.04189362449645996\n",
      "epoch number  6\n",
      "train loss  -0.6542836432136706\n",
      "val loss  -0.04228707618713379\n",
      "epoch number  7\n",
      "train loss  -0.6577780154595243\n",
      "val loss  -0.04270933837890625\n",
      "epoch number  8\n",
      "train loss  -0.6602319104076703\n",
      "val loss  -0.04270132942199707\n",
      "epoch number  9\n",
      "train loss  -0.6624307324255961\n",
      "val loss  -0.04287945404052734\n",
      "epoch number  10\n",
      "train loss  -0.6643232077296609\n",
      "val loss  -0.04272201042175293\n",
      "epoch number  11\n",
      "train loss  -0.6656389134779159\n",
      "val loss  -0.043026296997070314\n",
      "epoch number  12\n",
      "train loss  -0.6669902484427129\n",
      "val loss  -0.04283400688171387\n",
      "epoch number  13\n",
      "train loss  -0.668310648851049\n",
      "val loss  -0.04302372703552246\n",
      "epoch number  14\n",
      "train loss  -0.6693979852489317\n",
      "val loss  -0.043144290924072265\n",
      "epoch number  15\n",
      "train loss  -0.670069050623664\n",
      "val loss  -0.043247756576538086\n",
      "epoch number  16\n",
      "train loss  -0.6708199097784852\n",
      "val loss  -0.043302397537231446\n",
      "epoch number  17\n",
      "train loss  -0.6714171216940321\n",
      "val loss  -0.04316810073852539\n",
      "epoch number  18\n",
      "train loss  -0.671690575730826\n",
      "val loss  -0.043195025253295896\n",
      "epoch number  19\n",
      "train loss  -0.6724618596435864\n",
      "val loss  -0.043282594299316406\n"
     ]
    }
   ],
   "source": [
    "for epoch in range(20):\n",
    "    print(\"epoch number \", epoch)\n",
    "    train_loss = 0\n",
    "    val_loss = 0\n",
    "    for idx, (images, _) in enumerate(train_loader):\n",
    "        images = images.to(device)\n",
    "        recon_images, mu, logvar = vae(images)\n",
    "        r_loss = reconstruction_loss(recon_images, images)\n",
    "        k_loss = kl_loss(mu, logvar)\n",
    "        loss = r_loss + k_loss\n",
    "        vae.optimizer.zero_grad()\n",
    "        loss.backward()\n",
    "        vae.optimizer.step()\n",
    "        train_loss += loss.item()\n",
    "    print(\"train loss \", train_loss/(len(train_loader)*batch_size_train))\n",
    "    for idx, (images, _) in enumerate(test_loader):\n",
    "        images = images.to(device)\n",
    "        recon_images, mu, logvar = vae(images)\n",
    "        r_loss = reconstruction_loss(recon_images, images)\n",
    "        k_loss = kl_loss(mu, logvar)\n",
    "        loss = r_loss + k_loss\n",
    "        val_loss += loss.item()\n",
    "    print(\"val loss \", val_loss/(len(test_loader)*batch_size_test))"
   ]
  },
  {
   "cell_type": "code",
   "execution_count": 19,
   "id": "09a55366",
   "metadata": {},
   "outputs": [],
   "source": [
    "import matplotlib.pyplot as plt"
   ]
  },
  {
   "cell_type": "code",
   "execution_count": 20,
   "id": "4979ab25",
   "metadata": {},
   "outputs": [],
   "source": [
    "examples = enumerate(train_loader)\n",
    "batch_idx, (example_data, example_targets) = next(examples)"
   ]
  },
  {
   "cell_type": "code",
   "execution_count": 21,
   "id": "31bfed0c",
   "metadata": {},
   "outputs": [],
   "source": [
    "example_data = example_data.to(device)\n",
    "recon_images, mu, logvar = vae(example_data)"
   ]
  },
  {
   "cell_type": "code",
   "execution_count": 22,
   "id": "2bc08f13",
   "metadata": {},
   "outputs": [],
   "source": [
    "r_img = recon_images.detach().cpu().numpy()\n",
    "example_data=example_data.detach().cpu().numpy()"
   ]
  },
  {
   "cell_type": "code",
   "execution_count": 23,
   "id": "ee07e88f",
   "metadata": {},
   "outputs": [
    {
     "data": {
      "text/plain": [
       "<matplotlib.image.AxesImage at 0x7f0279d39df0>"
      ]
     },
     "execution_count": 23,
     "metadata": {},
     "output_type": "execute_result"
    },
    {
     "data": {
      "image/png": "[encoded data removed]",
      "text/plain": [
       "<Figure size 432x288 with 1 Axes>"
      ]
     },
     "metadata": {
      "needs_background": "light"
     },
     "output_type": "display_data"
    }
   ],
   "source": [
    "fig = plt.figure()\n",
    "plt.imshow(example_data[17][0], cmap='gray', interpolation='none')"
   ]
  },
  {
   "cell_type": "code",
   "execution_count": 24,
   "id": "1e6b3c62",
   "metadata": {},
   "outputs": [
    {
     "data": {
      "text/plain": [
       "<matplotlib.image.AxesImage at 0x7f0279c0ceb0>"
      ]
     },
     "execution_count": 24,
     "metadata": {},
     "output_type": "execute_result"
    },
    {
     "data": {
      "image/png": "[encoded data removed]",
      "text/plain": [
       "<Figure size 432x288 with 1 Axes>"
      ]
     },
     "metadata": {
      "needs_background": "light"
     },
     "output_type": "display_data"
    }
   ],
   "source": [
    "fig = plt.figure()\n",
    "plt.imshow(r_img[17][0], cmap='gray', interpolation='none')"
   ]
  },
  {
   "cell_type": "code",
   "execution_count": null,
   "id": "c987119d",
   "metadata": {},
   "outputs": [],
   "source": []
  }
 ],
 "metadata": {
  "kernelspec": {
   "display_name": "Python 3",
   "language": "python",
   "name": "python3"
  },
  "language_info": {
   "codemirror_mode": {
    "name": "ipython",
    "version": 3
   },
   "file_extension": ".py",
   "mimetype": "text/x-python",
   "name": "python",
   "nbconvert_exporter": "python",
   "pygments_lexer": "ipython3",
   "version": "3.8.8"
  }
 },
 "nbformat": 4,
 "nbformat_minor": 5
}
